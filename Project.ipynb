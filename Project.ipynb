{
 "cells": [
  {
   "cell_type": "code",
   "execution_count": 4,
   "metadata": {},
   "outputs": [],
   "source": [
    "#importing necessary modules\n",
    "import cv2\n",
    "import os\n",
    "import time\n",
    "import numpy as np\n",
    "import tensorflow as tf\n",
    "from object_detection.utils import label_map_util\n",
    "from object_detection.utils import visualization_utils as viz_utils\n",
    "from object_detection.builders import model_builder\n",
    "from object_detection.utils import config_util"
   ]
  },
  {
   "cell_type": "code",
   "execution_count": null,
   "metadata": {},
   "outputs": [],
   "source": [
    "#capturing images and labelling them\n",
    "signs = ['thumbsup','thumbsdown','hello','thankyou','peace','namaste','iloveyou','ok']\n",
    "number_of_images = 15\n",
    "\n",
    "\n",
    "images_loc_train = os.path.join('Project','workspace','images','train')\n",
    "images_loc_test = os.path.join('Project','workspace','images','test')    \n",
    "for sign in signs:\n",
    "    capture = cv2.VideoCapture(0)\n",
    "    print('capturing images of {}'.format(sign))\n",
    "    for capture_number in range(number_of_images):\n",
    "        print('collecting image number {}'.format(capture_number))\n",
    "        time.sleep(5)\n",
    "        ret, frame = capture.read()\n",
    "        if capture_number<12:\n",
    "            image_name = os.path.join(images_loc_train,sign+'_'+str(capture_number)+'.jpg')\n",
    "        else:\n",
    "            image_name = os.path.join(images_loc_test,sign+'_'+str(capture_number)+'.jpg')\n",
    "        cv2.imwrite(image_name, frame)\n",
    "        cv2.imshow('frame', frame)\n",
    "        print('done, ready the next image')\n",
    "        \n",
    "        if cv2.waitKey(1) & 0xff == ord('q'):\n",
    "            capture.release()\n",
    "            break\n",
    "            \n",
    "capture.release()\n",
    "cv2.destroyAllWindows()\n",
    "\n",
    "LabelIMG_loc = os.path.join('Tensorflow','labelimg')\n",
    "!cd {LabelIMG_loc} && python labelImg.py\n",
    "\n"
   ]
  },
  {
   "cell_type": "code",
   "execution_count": 2,
   "metadata": {},
   "outputs": [
    {
     "name": "stdout",
     "output_type": "stream",
     "text": [
      "Successfully created the TFRecord file: Project\\workspace\\annotations\\train.record\n",
      "Successfully created the TFRecord file: Project\\workspace\\annotations\\test.record\n"
     ]
    }
   ],
   "source": [
    "#training\n",
    "labels = [{'name':'thumbsup', 'id':1}, {'name':'thumbsdown', 'id':2}, {'name':'hello', 'id':3}, {'name':'thankyou', 'id':4},\n",
    "          {'name':'peace','id':5},{'name':'namaste','id':6},{'name':'iloveyou','id':7},{'name':'ok','id':8}]\n",
    "\n",
    "label_map_loc = os.path.join('Project','workspace','annotations','label_map.pbtxt')\n",
    "with open(label_map_loc, 'w') as f:\n",
    "    for label in labels:\n",
    "        f.write('item { \\n')\n",
    "        f.write('\\tname:\\'{}\\'\\n'.format(label['name']))\n",
    "        f.write('\\tid:{}\\n'.format(label['id']))\n",
    "        f.write('}\\n')\n",
    "\n",
    "images_loc_train = os.path.join('Project','workspace','images','train')\n",
    "images_loc_test = os.path.join('Project','workspace','images','test')\n",
    "train_record_loc = os.path.join('Project','workspace','annotations', 'train.record')\n",
    "test_record_loc = os.path.join('Project','workspace','annotations','test.record')\n",
    "pretrained_model_loc = os.path.join('Tensorflow','models','research', 'object_detection', 'model_main_tf2.py')\n",
    "Project_Model_Loc = os.path.join('project', 'workspace','Project_Model')\n",
    "Pipeline_config_loc = os.path.join('Project', 'workspace','Project_Model', 'pipeline.config')\n",
    "\n",
    "!python Tensorflow/scripts/generate_tfrecord.py -x {images_loc_train} -l {label_map_loc} -o {train_record_loc}\n",
    "!python Tensorflow/scripts/generate_tfrecord.py -x {images_loc_test} -l {label_map_loc} -o {test_record_loc}\n",
    "\n",
    "TRAINING_SCRIPT = os.path.join('Tensorflow','models' ,'research', 'object_detection', 'model_main_tf2.py')\n",
    "Checkpoint_path = os.path.join('Project','workspace','Project_Model')\n",
    "pipeline_path = os.path.join('Project','workspace','Project_Model','pipeline.config')\n",
    "\n",
    "command = \"python {} --model_dir={} --pipeline_config_path={} --num_train_steps=3000\".format(TRAINING_SCRIPT, Checkpoint_path,pipeline_path)\n",
    "!{command}\n",
    "\n",
    "Project_Model_Loc = os.path.join('Project','workspace','Project_Model')\n",
    "Pipeline_config_loc = os.path.join('Project', 'workspace','Project_Model', 'pipeline.config')\n",
    "label_map_loc = os.path.join('Project','workspace','annotations','label_map.pbtxt')\n",
    "\n"
   ]
  },
  {
   "cell_type": "code",
   "execution_count": 5,
   "metadata": {},
   "outputs": [],
   "source": [
    "Project_Model_Loc = os.path.join('project', 'workspace','Project_Model')\n",
    "Pipeline_config_loc = os.path.join('Project', 'workspace','Project_Model', 'pipeline.config')\n",
    "\n",
    "checkpoint_loc = os.path.join(Project_Model_Loc,'ckpt-6')\n",
    "configs = config_util.get_configs_from_pipeline_file(Pipeline_config_loc)\n",
    "detection_model = model_builder.build(model_config=configs['model'], is_training=False)\n",
    "ckpt = tf.compat.v2.train.Checkpoint(model=detection_model)\n",
    "ckpt.restore(checkpoint_loc).expect_partial()\n",
    "\n",
    "def detect_fn(image):\n",
    "    image, shapes = detection_model.preprocess(image)\n",
    "    prediction_dict = detection_model.predict(image, shapes)\n",
    "    detections = detection_model.postprocess(prediction_dict, shapes)\n",
    "    return detections"
   ]
  },
  {
   "cell_type": "code",
   "execution_count": 6,
   "metadata": {},
   "outputs": [],
   "source": [
    "#live object detection\n",
    "label_map_loc = os.path.join('Project','workspace','annotations','label_map.pbtxt')\n",
    "\n",
    "live_feed = cv2.VideoCapture(0)\n",
    "width = int(live_feed.get(cv2.CAP_PROP_FRAME_WIDTH))\n",
    "height = int(live_feed.get(cv2.CAP_PROP_FRAME_HEIGHT))\n",
    "category_index = label_map_util.create_category_index_from_labelmap(label_map_loc)\n",
    "\n",
    "while live_feed.isOpened(): \n",
    "    ret, frame = live_feed.read()\n",
    "    image_np = np.array(frame)\n",
    "    \n",
    "    input_tensor = tf.convert_to_tensor(np.expand_dims(image_np, 0), dtype=tf.float32)\n",
    "    detections = detect_fn(input_tensor)\n",
    "    \n",
    "    num_detections = int(detections.pop('num_detections'))\n",
    "    detections = {key: value[0, :num_detections].numpy()\n",
    "                  for key, value in detections.items()}\n",
    "    detections['num_detections'] = num_detections\n",
    "\n",
    "    detections['detection_classes'] = detections['detection_classes'].astype(np.int64)\n",
    "\n",
    "    label_id_offset = 1\n",
    "    image_np_with_detections = image_np.copy()\n",
    "\n",
    "    viz_utils.visualize_boxes_and_labels_on_image_array(\n",
    "                image_np_with_detections,\n",
    "                detections['detection_boxes'],\n",
    "                detections['detection_classes']+label_id_offset,\n",
    "                detections['detection_scores'],\n",
    "                category_index,\n",
    "                use_normalized_coordinates=True,\n",
    "                max_boxes_to_draw=5,\n",
    "                min_score_thresh=.8,\n",
    "                agnostic_mode=False)\n",
    "\n",
    "    cv2.imshow('object detection',  cv2.resize(image_np_with_detections, (800, 600)))\n",
    "    \n",
    "    if cv2.waitKey(10) & 0xFF == ord('q'):\n",
    "        live_feed.release()\n",
    "        cv2.destroyAllWindows()\n",
    "        break"
   ]
  },
  {
   "cell_type": "code",
   "execution_count": 7,
   "metadata": {},
   "outputs": [],
   "source": [
    "live_feed.release()\n",
    "cv2.destroyAllWindows()"
   ]
  },
  {
   "cell_type": "code",
   "execution_count": null,
   "metadata": {},
   "outputs": [],
   "source": []
  }
 ],
 "metadata": {
  "kernelspec": {
   "display_name": "projectroom",
   "language": "python",
   "name": "projectroom"
  },
  "language_info": {
   "codemirror_mode": {
    "name": "ipython",
    "version": 3
   },
   "file_extension": ".py",
   "mimetype": "text/x-python",
   "name": "python",
   "nbconvert_exporter": "python",
   "pygments_lexer": "ipython3",
   "version": "3.8.8"
  }
 },
 "nbformat": 4,
 "nbformat_minor": 4
}
